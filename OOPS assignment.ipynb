{
  "nbformat": 4,
  "nbformat_minor": 0,
  "metadata": {
    "colab": {
      "provenance": [],
      "toc_visible": true
    },
    "kernelspec": {
      "name": "python3",
      "display_name": "Python 3"
    },
    "language_info": {
      "name": "python"
    }
  },
  "cells": [
    {
      "cell_type": "markdown",
      "source": [
        "1. What are the five key concepts of Object-Oriented Programming (OOP)?\n",
        "\n",
        "Object Oriented Programming is a fundamental concept in Python, empowering developers to build modular, maintainable, and scalable applications.\n",
        "\n",
        "**Key concept of OOP in Python**\n",
        "\n",
        "1. Class:-\n",
        "\n",
        "Classes are created by keyword class.\n",
        "Attributes are the variables that belong to a class.\n",
        "Attributes are always public and can be accessed using the dot (.) operator.\n",
        "\n",
        "2. Objects:-\n",
        "\n",
        " It is represented by the attributes of an object. It also reflects the properties of an object.\n",
        " It is represented by the methods of an object. It also reflects the response of an object to other objects.\n",
        " It gives a unique name to an object and enables one object to interact with other objects.\n",
        "\n",
        " 3. Inheritance:-\n",
        "\n",
        "It represents real-world relationships well.\n",
        "It provides the reusability of a code. We don’t have to write the same code again and again. Also, it allows us to add more features to a class without modifying it.\n",
        "It is transitive in nature, which means that if class B inherits from another class A, then all the subclasses of B would automatically inherit from class A.\n",
        "\n",
        "Types of Inheritance = Single Inheritance, Multilevel Inheritance, Hierarchical Inheritance, Multiple Inheritance.\n",
        "\n",
        "4. Polymorphism:-\n",
        "\n",
        "polymorphism simply means having many forms.\n",
        "This code demonstrates the concept of Python oops inheritance and method overriding in Python classes. It shows how subclasses can override methods defined in their parent class to provide specific behavior while still inheriting other methods from the parent class.\n",
        "\n",
        "5. Encapsulation:-\n",
        "\n",
        "Encapsulation is one of the fundamental concepts in object-oriented programming (OOP).\n",
        "It describes the idea of wrapping data and the methods that work on data within one unit.\n",
        "This puts restrictions on accessing variables and methods directly and can prevent the accidental modification of data.\n",
        "A class is an example of encapsulation as it encapsulates all the data that is member functions, variables, etc."
      ],
      "metadata": {
        "id": "VXlqFX9xwSW1"
      }
    },
    {
      "cell_type": "code",
      "source": [
        "#Write a Python class for a `Car` with attributes for `make`, `model`, and `year`. Include a method to display\n",
        "#the car's information.\n",
        "\n",
        "class Car:\n",
        "    def __init__(self, make, model, year):\n",
        "        self.make = make\n",
        "        self.model = model\n",
        "        self.year = year\n",
        "\n",
        "    def display_info(self):\n",
        "        print(f\"Make: {self.make}\")\n",
        "        print(f\"Model: {self.model}\")\n",
        "        print(f\"Year: {self.year}\")\n"
      ],
      "metadata": {
        "id": "cxo-TLgbyJry"
      },
      "execution_count": 2,
      "outputs": []
    },
    {
      "cell_type": "code",
      "source": [
        "car = Car(\"Toyota\", \"Camry\", 2022)\n",
        "car.display_info()"
      ],
      "metadata": {
        "colab": {
          "base_uri": "https://localhost:8080/"
        },
        "id": "8m2Qp7rVzMBV",
        "outputId": "987c3120-c22d-4587-f4dc-2287b79282fc"
      },
      "execution_count": 3,
      "outputs": [
        {
          "output_type": "stream",
          "name": "stdout",
          "text": [
            "Make: Toyota\n",
            "Model: Camry\n",
            "Year: 2022\n"
          ]
        }
      ]
    },
    {
      "cell_type": "code",
      "source": [
        "# Explain the difference between instance methods and class methods. Provide an example of each.\n",
        "\n",
        "\n",
        "#In Python, instance methods and class methods differ in how they interact with the class and its objects.\n",
        "\n",
        "# Instance Method :-\n",
        "\n",
        "# Methods that operate on an instance of the class. They have access to instance attributes and can modify the object's state.\n",
        "# The first parameter is always self, which represents the instance of the class.\n",
        "# Used for actions specific to an instance.\n",
        "\n",
        "#Example\n",
        "\n",
        "class Car:\n",
        "    def __init__(self, make, model, year):\n",
        "        self.make = make\n",
        "        self.model = model\n",
        "        self.year = year\n",
        "\n",
        "    def display_info(self):\n",
        "        print(f\"Make: {self.make}\")\n",
        "        print(f\"Model: {self.model}\")\n",
        "        print(f\"Year: {self.year}\")\n"
      ],
      "metadata": {
        "id": "Ne1bw5Xa0T4N"
      },
      "execution_count": 86,
      "outputs": []
    },
    {
      "cell_type": "code",
      "source": [
        "car = Car(\"Hyundai\", \"John\", 2018)\n",
        "car.display_info()"
      ],
      "metadata": {
        "colab": {
          "base_uri": "https://localhost:8080/"
        },
        "id": "hgwxetSQ1bZf",
        "outputId": "73e6351b-59a9-45d9-8ed9-5386dd8b5a34"
      },
      "execution_count": 87,
      "outputs": [
        {
          "output_type": "stream",
          "name": "stdout",
          "text": [
            "Make: Hyundai\n",
            "Model: John\n",
            "Year: 2018\n"
          ]
        }
      ]
    },
    {
      "cell_type": "code",
      "source": [
        "#Class Method:-\n",
        "\n",
        "#Class methods are functions that are bound to the class itself, rather than instances of the class. They can access and modify class-level attributes but cannot directly access instance-specific data.\n",
        "#They take cls as the first parameter, which refers to the class, not an instance of the class.\n",
        "#They are called using the class name or an instance of the class, but they always receive the class (cls) as the first argument.\n",
        "\n",
        "\n",
        "class bank:\n",
        "    def deposit(self):\n",
        "        print(\"I am depositing money\")"
      ],
      "metadata": {
        "id": "dXyR4eIr8RWt"
      },
      "execution_count": 88,
      "outputs": []
    },
    {
      "cell_type": "code",
      "source": [
        "c1= bank()\n",
        "c1.deposit()"
      ],
      "metadata": {
        "colab": {
          "base_uri": "https://localhost:8080/"
        },
        "id": "3BPSEIu69Bxm",
        "outputId": "3fd5eb20-47a6-4f04-d074-c7f3997a211c"
      },
      "execution_count": 89,
      "outputs": [
        {
          "output_type": "stream",
          "name": "stdout",
          "text": [
            "I am depositing money\n"
          ]
        }
      ]
    },
    {
      "cell_type": "code",
      "source": [
        "class bank:\n",
        "    def deposit(self):\n",
        "        print(\"I am depositing money\")\n",
        "    def withdraw(self):\n",
        "        print(\"I am withdrawing money from bank\")"
      ],
      "metadata": {
        "id": "otSRENfK9DpP"
      },
      "execution_count": 90,
      "outputs": []
    },
    {
      "cell_type": "code",
      "source": [
        "c1= bank()\n",
        "c1.withdraw()"
      ],
      "metadata": {
        "colab": {
          "base_uri": "https://localhost:8080/"
        },
        "id": "OPIRNNPA9Fdo",
        "outputId": "c01ac0f8-efad-40e8-d51c-1bc25b2b9e6c"
      },
      "execution_count": 92,
      "outputs": [
        {
          "output_type": "stream",
          "name": "stdout",
          "text": [
            "I am withdrawing money from bank\n"
          ]
        }
      ]
    },
    {
      "cell_type": "code",
      "source": [
        "# How does Python implement method overloading? Give an example.\n",
        "\n",
        "#Python does not natively support method overloading.\n",
        "#It is implemented in languages like Java or C++.\n",
        "#Python allows you to define a single method with flexible parameters, often using default arguments, *args, or **kwargs to simulate method overloading.\n",
        "\n",
        "#Example\n",
        "\n",
        "class Example:\n",
        "  def add(self, a=None, b=None, c=None):\n",
        "    if a is not None and b is not None and c is not None:\n",
        "      return a + b + c\n",
        "    elif a is not None and b is not None:\n",
        "        return a + b\n",
        "    else:\n",
        "        pass # Or some other action if needed\n",
        "        return (\"Invalid arguments\")"
      ],
      "metadata": {
        "id": "JJ0jt_8i9HCA"
      },
      "execution_count": 95,
      "outputs": []
    },
    {
      "cell_type": "code",
      "source": [
        "obj = Example()"
      ],
      "metadata": {
        "id": "A715_d86-oh7"
      },
      "execution_count": 96,
      "outputs": []
    },
    {
      "cell_type": "code",
      "source": [
        "print(obj.add(10, 20, 30))"
      ],
      "metadata": {
        "colab": {
          "base_uri": "https://localhost:8080/"
        },
        "id": "7AITLawx-vQf",
        "outputId": "8c6ed1da-6e9a-4b0e-ff13-753ff375c887"
      },
      "execution_count": 97,
      "outputs": [
        {
          "output_type": "stream",
          "name": "stdout",
          "text": [
            "60\n"
          ]
        }
      ]
    },
    {
      "cell_type": "code",
      "source": [
        "print(obj.add(10, 20))"
      ],
      "metadata": {
        "colab": {
          "base_uri": "https://localhost:8080/"
        },
        "id": "evL_Z4hc-wze",
        "outputId": "3ec0562b-ec48-487f-b620-4d9cc591490d"
      },
      "execution_count": 98,
      "outputs": [
        {
          "output_type": "stream",
          "name": "stdout",
          "text": [
            "30\n"
          ]
        }
      ]
    },
    {
      "cell_type": "markdown",
      "source": [
        "5. What are the three types of access modifiers in Python? How are they denoted?\n",
        "\n",
        "In Python, access modifiers are used to control the visibility and accessibility of class attributes and methods. While Python does not have strict access control like some other languages (e.g., private, protected, public in Java), it provides a naming convention to denote access levels.\n",
        "\n",
        "**Three Types of Access Modifiers in Python: **\n",
        "\n",
        "1. Public:-\n",
        "\n",
        "Public members can be accessed from anywhere, both within and outside the class.\n",
        "Attributes or methods are public by default (no special naming convention required).\n",
        "\n",
        "2. Protected:-\n",
        "\n",
        "Protected members are meant to be accessible within the class and its subclasses. Python does not enforce this restriction, but it is indicated by a single leading underscore (_).\n",
        "\n",
        "Prefix the attribute or method name with a single underscore (_).\n",
        "\n",
        "3. Private:-\n",
        "\n",
        "Private members are accessible only within the class where they are defined. They are not directly accessible outside the class.\n",
        "\n",
        "Prefix the attribute or method name with two leading underscores (__).\n",
        "\n",
        ":- Use public attributes and methods for most cases.\n",
        "Use protected attributes and methods for internal purposes within a class or its subclasses.\n",
        "Use private attributes and methods sparingly, for critical internal logic that should not be exposed."
      ],
      "metadata": {
        "id": "N_s7g9k7-4Qz"
      }
    },
    {
      "cell_type": "code",
      "source": [
        "#Describe the five types of inheritance in Python. Provide a simple example of multiple inheritance.\n",
        "\n",
        "#Five Types of Inheritance in Python:-\n",
        "\n",
        "#Single Inheritance = A child class inherits from a single parent class.\n",
        "#example\n",
        "\n",
        "class Parent:\n",
        "  def display(self):\n",
        "    print(\"This is the parent class.\")"
      ],
      "metadata": {
        "id": "nNELgV4l_l0S"
      },
      "execution_count": 99,
      "outputs": []
    },
    {
      "cell_type": "code",
      "source": [
        "class Child(Parent):\n",
        "    pass"
      ],
      "metadata": {
        "id": "LuvklkNg-zp4"
      },
      "execution_count": 100,
      "outputs": []
    },
    {
      "cell_type": "code",
      "source": [
        "obj = Child()"
      ],
      "metadata": {
        "id": "SwoD8LABAjF4"
      },
      "execution_count": 101,
      "outputs": []
    },
    {
      "cell_type": "code",
      "source": [
        "obj.display()"
      ],
      "metadata": {
        "colab": {
          "base_uri": "https://localhost:8080/"
        },
        "id": "4y-j_MQrAk_Y",
        "outputId": "4b95a634-2337-473f-a594-2c20ee739b78"
      },
      "execution_count": 102,
      "outputs": [
        {
          "output_type": "stream",
          "name": "stdout",
          "text": [
            "This is the parent class.\n"
          ]
        }
      ]
    },
    {
      "cell_type": "code",
      "source": [
        "#Multiple Inheritance = A child class inherits from more than one parent class.\n",
        "\n",
        "#example:-\n",
        "\n",
        "class A:\n",
        "  def method_a(self):\n",
        "    print(\"Method from class A\")"
      ],
      "metadata": {
        "id": "BCXUWZFXAmqb"
      },
      "execution_count": 103,
      "outputs": []
    },
    {
      "cell_type": "code",
      "source": [
        "class B:\n",
        "    def method_b(self):\n",
        "        print(\"Method from class B\")"
      ],
      "metadata": {
        "id": "LjbYHyHFA14U"
      },
      "execution_count": 104,
      "outputs": []
    },
    {
      "cell_type": "code",
      "source": [
        "class C(A, B):\n",
        "    pass"
      ],
      "metadata": {
        "id": "SnWNkJmTA3rr"
      },
      "execution_count": 105,
      "outputs": []
    },
    {
      "cell_type": "code",
      "source": [
        "obj = C()"
      ],
      "metadata": {
        "id": "WLOCeCZ9A5M_"
      },
      "execution_count": 106,
      "outputs": []
    },
    {
      "cell_type": "code",
      "source": [
        "obj.method_a()"
      ],
      "metadata": {
        "colab": {
          "base_uri": "https://localhost:8080/"
        },
        "id": "sFuAJglGA63V",
        "outputId": "541e8eb5-ef3e-4076-a615-b69e6aac34cf"
      },
      "execution_count": 107,
      "outputs": [
        {
          "output_type": "stream",
          "name": "stdout",
          "text": [
            "Method from class A\n"
          ]
        }
      ]
    },
    {
      "cell_type": "code",
      "source": [
        "obj.method_b()"
      ],
      "metadata": {
        "colab": {
          "base_uri": "https://localhost:8080/"
        },
        "id": "4sqwvmMdA8ct",
        "outputId": "0214de5e-83d8-4542-97e8-81bffa0b8a57"
      },
      "execution_count": 108,
      "outputs": [
        {
          "output_type": "stream",
          "name": "stdout",
          "text": [
            "Method from class B\n"
          ]
        }
      ]
    },
    {
      "cell_type": "code",
      "source": [
        "#Multilevel Inheritance = A class inherits from a class, which in turn inherits from another class.\n",
        "\n",
        "#example:-\n",
        "\n",
        "class Grandparent:\n",
        "    def display(self):\n",
        "        print(\"This is the grandparent class.\")"
      ],
      "metadata": {
        "id": "Yk43vdKgA-E8"
      },
      "execution_count": 109,
      "outputs": []
    },
    {
      "cell_type": "code",
      "source": [
        "class Parent(Grandparent):\n",
        "    pass"
      ],
      "metadata": {
        "id": "BtEUKI8zBHC_"
      },
      "execution_count": 110,
      "outputs": []
    },
    {
      "cell_type": "code",
      "source": [
        "class Child(Parent):\n",
        "    pass"
      ],
      "metadata": {
        "id": "DRYecm_tBI67"
      },
      "execution_count": 111,
      "outputs": []
    },
    {
      "cell_type": "code",
      "source": [
        "obj = Child()\n",
        "obj.display()"
      ],
      "metadata": {
        "colab": {
          "base_uri": "https://localhost:8080/"
        },
        "id": "zFHxM9vIBKK_",
        "outputId": "183c37fc-445a-4d1a-d52c-629f7e5481d6"
      },
      "execution_count": 112,
      "outputs": [
        {
          "output_type": "stream",
          "name": "stdout",
          "text": [
            "This is the grandparent class.\n"
          ]
        }
      ]
    },
    {
      "cell_type": "code",
      "source": [
        "#Hierarchical Inheritance = Multiple child classes inherit from a single parent class.\n",
        "\n",
        "#example:-\n",
        "\n",
        "class Parent:\n",
        "    def display(self):\n",
        "        print(\"This is the parent class.\")"
      ],
      "metadata": {
        "id": "QRsn-GUuBLgH"
      },
      "execution_count": 113,
      "outputs": []
    },
    {
      "cell_type": "code",
      "source": [
        "class Child1(Parent):\n",
        "    pass"
      ],
      "metadata": {
        "id": "RaN2kRBcBRzm"
      },
      "execution_count": 114,
      "outputs": []
    },
    {
      "cell_type": "code",
      "source": [
        "class Child2(Parent):\n",
        "    pass"
      ],
      "metadata": {
        "id": "S3xavclTBTr8"
      },
      "execution_count": 115,
      "outputs": []
    },
    {
      "cell_type": "code",
      "source": [
        "obj1 = Child1()\n",
        "obj2 = Child2()"
      ],
      "metadata": {
        "id": "3EPaGhkdBUwr"
      },
      "execution_count": 116,
      "outputs": []
    },
    {
      "cell_type": "code",
      "source": [
        "obj1.display()"
      ],
      "metadata": {
        "colab": {
          "base_uri": "https://localhost:8080/"
        },
        "id": "2dsH7QUeBV2z",
        "outputId": "a1944af4-b723-4ba1-fd03-e4453cb9deaf"
      },
      "execution_count": 117,
      "outputs": [
        {
          "output_type": "stream",
          "name": "stdout",
          "text": [
            "This is the parent class.\n"
          ]
        }
      ]
    },
    {
      "cell_type": "code",
      "source": [
        "obj2.display()"
      ],
      "metadata": {
        "colab": {
          "base_uri": "https://localhost:8080/"
        },
        "id": "lrOSgUDaBXY-",
        "outputId": "5a5837d8-7b54-4b6f-f686-bb07702e2fd2"
      },
      "execution_count": 118,
      "outputs": [
        {
          "output_type": "stream",
          "name": "stdout",
          "text": [
            "This is the parent class.\n"
          ]
        }
      ]
    },
    {
      "cell_type": "code",
      "source": [
        "#Hybrid Inheritance = A combination of two or more types of inheritance, such as multiple and hierarchical inheritance. This can involve complex class structures.\n",
        "\n",
        "#example:-\n",
        "\n",
        "class A:\n",
        "    def method_a(self):\n",
        "        print(\"Method from class A\")"
      ],
      "metadata": {
        "id": "YL9YcwZpBYjZ"
      },
      "execution_count": 119,
      "outputs": []
    },
    {
      "cell_type": "code",
      "source": [
        "class B(A):\n",
        "    def method_b(self):\n",
        "        print(\"Method from class B\")"
      ],
      "metadata": {
        "id": "7J_aaBEkBgPj"
      },
      "execution_count": 120,
      "outputs": []
    },
    {
      "cell_type": "code",
      "source": [
        "class C:\n",
        "    def method_c(self):\n",
        "        print(\"Method from class C\")"
      ],
      "metadata": {
        "id": "biGQ8LApBiGW"
      },
      "execution_count": 121,
      "outputs": []
    },
    {
      "cell_type": "code",
      "source": [
        "class D(B, C):\n",
        "    pass"
      ],
      "metadata": {
        "id": "pNtidYSYBjV0"
      },
      "execution_count": 122,
      "outputs": []
    },
    {
      "cell_type": "code",
      "source": [
        "obj = D()\n",
        "obj.method_a()"
      ],
      "metadata": {
        "colab": {
          "base_uri": "https://localhost:8080/"
        },
        "id": "YIlz-SSJBkb6",
        "outputId": "64b5a52b-6783-4c51-db4a-0f10d35c0329"
      },
      "execution_count": 123,
      "outputs": [
        {
          "output_type": "stream",
          "name": "stdout",
          "text": [
            "Method from class A\n"
          ]
        }
      ]
    },
    {
      "cell_type": "code",
      "source": [
        "obj.method_b()"
      ],
      "metadata": {
        "colab": {
          "base_uri": "https://localhost:8080/"
        },
        "id": "yUM6RPMMBmBv",
        "outputId": "0a91d6b6-3c0a-473a-c0b1-2905b06792c9"
      },
      "execution_count": 124,
      "outputs": [
        {
          "output_type": "stream",
          "name": "stdout",
          "text": [
            "Method from class B\n"
          ]
        }
      ]
    },
    {
      "cell_type": "code",
      "source": [
        "obj.method_c()"
      ],
      "metadata": {
        "colab": {
          "base_uri": "https://localhost:8080/"
        },
        "id": "C-zdWsHhBoL3",
        "outputId": "c58aa175-5b65-4bd8-ce00-abe8353048ba"
      },
      "execution_count": 125,
      "outputs": [
        {
          "output_type": "stream",
          "name": "stdout",
          "text": [
            "Method from class C\n"
          ]
        }
      ]
    },
    {
      "cell_type": "code",
      "source": [
        "#Multiple Inheritance = Python uses the Method Resolution Order (MRO) to decide the order in which parent class methods are inherited when there’s a conflict.\n",
        "\n",
        "#example:-\n",
        "\n",
        "class Animal:\n",
        "    def eat(self):\n",
        "        print(\"This animal eats food.\")"
      ],
      "metadata": {
        "id": "nhYkAVhTBpcC"
      },
      "execution_count": 126,
      "outputs": []
    },
    {
      "cell_type": "code",
      "source": [
        "class Bird:\n",
        "    def fly(self):\n",
        "        print(\"This bird can fly.\")"
      ],
      "metadata": {
        "id": "c5xqeCziB0PU"
      },
      "execution_count": 127,
      "outputs": []
    },
    {
      "cell_type": "code",
      "source": [
        "class Bat(Animal, Bird):\n",
        "    def sleep(self):\n",
        "        print(\"This bat sleeps during the day.\")"
      ],
      "metadata": {
        "id": "ALsa8U-EB1f2"
      },
      "execution_count": 128,
      "outputs": []
    },
    {
      "cell_type": "code",
      "source": [
        "bat = Bat()"
      ],
      "metadata": {
        "id": "X-BxWw-mB26w"
      },
      "execution_count": 129,
      "outputs": []
    },
    {
      "cell_type": "code",
      "source": [
        "bat.eat()"
      ],
      "metadata": {
        "colab": {
          "base_uri": "https://localhost:8080/"
        },
        "id": "n_Yg9aXtB5hz",
        "outputId": "c8795a1b-cc1e-4601-9cfc-a15c2a10e379"
      },
      "execution_count": 130,
      "outputs": [
        {
          "output_type": "stream",
          "name": "stdout",
          "text": [
            "This animal eats food.\n"
          ]
        }
      ]
    },
    {
      "cell_type": "code",
      "source": [
        "bat.fly()"
      ],
      "metadata": {
        "colab": {
          "base_uri": "https://localhost:8080/"
        },
        "id": "sJerfbCcB6zI",
        "outputId": "90549e3e-ecb1-4076-d457-645949bcc1b4"
      },
      "execution_count": 131,
      "outputs": [
        {
          "output_type": "stream",
          "name": "stdout",
          "text": [
            "This bird can fly.\n"
          ]
        }
      ]
    },
    {
      "cell_type": "code",
      "source": [
        "bat.sleep()"
      ],
      "metadata": {
        "colab": {
          "base_uri": "https://localhost:8080/"
        },
        "id": "1EsaS_dEB7-k",
        "outputId": "4ab77694-5e39-4a42-bf0a-1cc2ab3cde9d"
      },
      "execution_count": 132,
      "outputs": [
        {
          "output_type": "stream",
          "name": "stdout",
          "text": [
            "This bat sleeps during the day.\n"
          ]
        }
      ]
    },
    {
      "cell_type": "code",
      "source": [
        "#What is the Method Resolution Order (MRO) in Python? How can you retrieve it programmatically?\n",
        "\n",
        "#The Method Resolution Order (MRO) in Python is the order in which Python looks for a method or attribute in a class hierarchy when there is inheritance involved.\n",
        "#MRO defines the sequence of classes that are considered to find the first occurrence of the called method or attribute.\n",
        "\n",
        "#Python searches for a method or attribute in the current class first, followed by its parent classes, following the order defined by the MRO.\n",
        "#If the method or attribute is not found in any class, Python raises an AttributeError.\n",
        "#MRO ensures that child classes take precedence over parent classes.\n",
        "#Methods from left-to-right in the class definition are prioritized for multiple inheritance.\n",
        "#It avoids duplication in inheritance chains.\n",
        "\n",
        "#MRO PROGRAM RETRIEVE\n",
        "\n",
        "className.mro(): Returns a list of classes in the MRO.\n",
        "className.__mro__: Accesses the MRO as a tuple.\n",
        "\n"
      ],
      "metadata": {
        "id": "0h9BVSfDB9QG"
      },
      "execution_count": null,
      "outputs": []
    },
    {
      "cell_type": "code",
      "source": [
        "#Create an abstract base class `Shape` with an abstract method `area()`. Then create two subclasses `Circle` and `Rectangle` that implement the `area()` method.\n",
        "\n",
        "class Shape:\n",
        "  def calculate_area(self):\n",
        "    pass"
      ],
      "metadata": {
        "id": "aDcc1caLDJfu"
      },
      "execution_count": 136,
      "outputs": []
    },
    {
      "cell_type": "code",
      "source": [
        "class Rectangle(Shape):\n",
        "  def calculate_area(self):\n",
        "        return \"area of rectangle is len*breadth\""
      ],
      "metadata": {
        "id": "iB7IRo0BDjpn"
      },
      "execution_count": 137,
      "outputs": []
    },
    {
      "cell_type": "code",
      "source": [
        "class Circle(Shape):\n",
        "    def calculate_area(self):\n",
        "        return \"area of circle is pi r **2\""
      ],
      "metadata": {
        "id": "DSCb6QV7ECwg"
      },
      "execution_count": 138,
      "outputs": []
    },
    {
      "cell_type": "code",
      "source": [
        "rect = Rectangle()\n",
        "rect.calculate_area()"
      ],
      "metadata": {
        "colab": {
          "base_uri": "https://localhost:8080/",
          "height": 35
        },
        "id": "WKdfGwDsEEqO",
        "outputId": "7f043436-76c7-4543-e1fe-cb462c912ccd"
      },
      "execution_count": 139,
      "outputs": [
        {
          "output_type": "execute_result",
          "data": {
            "text/plain": [
              "'area of rectangle is len*breadth'"
            ],
            "application/vnd.google.colaboratory.intrinsic+json": {
              "type": "string"
            }
          },
          "metadata": {},
          "execution_count": 139
        }
      ]
    },
    {
      "cell_type": "code",
      "source": [
        "# Demonstrate polymorphism by creating a function that can work with different shape objects to calculate and print their areas.\n",
        "\n",
        "#Polymorphism allows objects of different classes to be treated as objects of a common superclass. In this case, you can create a function that can work with different shape objects (like Circle and Rectangle) to calculate and print their areas, even though they are different classes.\n",
        "\n",
        "\n",
        "class Shape:\n",
        "  def __init__(self, name):\n",
        "    self.name = name\n",
        "\n",
        "class Circle(Shape):\n",
        "  def __init__(self, name, radius):\n",
        "    super().__init__(name)\n",
        "    self.radius = radius\n",
        "\n",
        "class Rectangle(Shape):\n",
        "  def __init__(self, name, width, height):\n",
        "    super().__init__(name)\n",
        "    self.width = width\n",
        "    self.height = height\n",
        "\n",
        "def calculate_area(shape):\n",
        "  if isinstance(shape, Circle):\n",
        "    return shape.radius ** 2 * 3.14\n",
        "  elif isinstance(shape, Rectangle):\n",
        "    return shape.width * shape.height"
      ],
      "metadata": {
        "id": "FEzVC4BpEF6I"
      },
      "execution_count": 159,
      "outputs": []
    },
    {
      "cell_type": "code",
      "source": [
        "circle = Circle(\"Circle\", 10)\n",
        "print(calculate_area(circle))"
      ],
      "metadata": {
        "colab": {
          "base_uri": "https://localhost:8080/"
        },
        "id": "LV1WQlsXHPt_",
        "outputId": "e8be587d-53f1-4f6c-e3fb-7a51f989a8e1"
      },
      "execution_count": 160,
      "outputs": [
        {
          "output_type": "stream",
          "name": "stdout",
          "text": [
            "314.0\n"
          ]
        }
      ]
    },
    {
      "cell_type": "code",
      "source": [
        "rectangle = Rectangle(\"Rectangle\", 20, 30)\n",
        "print(calculate_area(rectangle))"
      ],
      "metadata": {
        "colab": {
          "base_uri": "https://localhost:8080/"
        },
        "id": "MumDyK6BHTPU",
        "outputId": "16a61d40-24ed-41c2-bd47-4a9aeb40ab12"
      },
      "execution_count": 161,
      "outputs": [
        {
          "output_type": "stream",
          "name": "stdout",
          "text": [
            "600\n"
          ]
        }
      ]
    },
    {
      "cell_type": "code",
      "source": [
        "#Implement encapsulation in a `BankAccount` class with private attributes for `balance` and `account_number`. Include methods for deposit, withdrawal, and balance inquiry.\n",
        "\n",
        "class Bank_Account:\n",
        "    def __init__(self):\n",
        "        self.balance=0\n",
        "        print(\"Hello!!! Welcome to the Deposit & Withdrawal Machine\")\n",
        "\n",
        "    def deposit(self):\n",
        "        amount=float(input(\"Enter amount to be Deposited: \"))\n",
        "        self.balance += amount\n",
        "        print(\"\\n Amount Deposited:\",amount)\n",
        "\n",
        "    def withdraw(self):\n",
        "        amount = float(input(\"Enter amount to be Withdrawn: \"))\n",
        "        if self.balance>=amount:\n",
        "            self.balance-=amount\n",
        "            print(\"\\n You Withdrew:\", amount)\n",
        "        else:\n",
        "            print(\"\\n Insufficient balance  \")"
      ],
      "metadata": {
        "id": "364LygQNHWZo"
      },
      "execution_count": 3,
      "outputs": []
    },
    {
      "cell_type": "code",
      "source": [
        "def display(self):\n",
        "  print(\"\\n Net Available Balance=\",self.balance)"
      ],
      "metadata": {
        "id": "MAQzluj0Hzdh"
      },
      "execution_count": 4,
      "outputs": []
    },
    {
      "cell_type": "code",
      "source": [
        "s = Bank_Account()\n",
        "s.withdraw()"
      ],
      "metadata": {
        "colab": {
          "base_uri": "https://localhost:8080/"
        },
        "id": "71DUxyoYGPxs",
        "outputId": "4be9fdd8-c882-44a0-f4e7-0e92c3377e69"
      },
      "execution_count": 5,
      "outputs": [
        {
          "output_type": "stream",
          "name": "stdout",
          "text": [
            "Hello!!! Welcome to the Deposit & Withdrawal Machine\n",
            "Enter amount to be Withdrawn: 10000\n",
            "\n",
            " Insufficient balance  \n"
          ]
        }
      ]
    },
    {
      "cell_type": "code",
      "source": [
        "s.deposit()"
      ],
      "metadata": {
        "colab": {
          "base_uri": "https://localhost:8080/"
        },
        "id": "qEW2TGYeGp2I",
        "outputId": "762b54c2-68a2-4923-bba6-b9ff14faf31f"
      },
      "execution_count": 7,
      "outputs": [
        {
          "output_type": "stream",
          "name": "stdout",
          "text": [
            "Enter amount to be Deposited: 5000\n",
            "\n",
            " Amount Deposited: 5000.0\n"
          ]
        }
      ]
    },
    {
      "cell_type": "markdown",
      "source": [
        "11.  Write a class that overrides the `__str__` and `__add__` magic methods. What will these methods allow\n",
        "you to do?\n",
        "\n",
        "Overriding the __str__ and __add__ magic methods in a class allows you to customize how objects of the class are converted to strings and how they behave when added using the + operator, respectively. Here's a breakdown of each method:\n",
        "\n",
        "__str__:\n",
        "\n",
        "This method is called when you use the str() function or print() on an instance of the class.\n",
        "By overriding it, you define a custom string representation for your objects.\n",
        "__add__:\n",
        "\n",
        "This method is called when you use the + operator with an instance of your class.\n",
        "By overriding it, you can define how objects of your class behave when they are added together or combined with other objects."
      ],
      "metadata": {
        "id": "kU7wUPQbLL7-"
      }
    },
    {
      "cell_type": "code",
      "source": [
        "#Example\n",
        "\n",
        "class CustomObject:\n",
        "    def __init__(self, value):\n",
        "        self.value = value\n",
        "\n",
        "    def __str__(self):\n",
        "        return f\"CustomObject with value: {self.value}\"\n",
        "\n",
        "    def __add__(self, other):\n",
        "        if isinstance(other, CustomObject):\n",
        "            return CustomObject(self.value + other.value)\n",
        "        elif isinstance(other, (int, float)):\n",
        "            return CustomObject(self.value + other)\n",
        "        else:\n",
        "            raise TypeError(\"Unsupported operand type for +\")\n"
      ],
      "metadata": {
        "id": "wVdGoUVrGzuf"
      },
      "execution_count": 28,
      "outputs": []
    },
    {
      "cell_type": "code",
      "source": [
        "obj1 = CustomObject(10)\n",
        "obj2 = CustomObject(20)"
      ],
      "metadata": {
        "id": "WuMjl7HfJ_xO"
      },
      "execution_count": 29,
      "outputs": []
    },
    {
      "cell_type": "code",
      "source": [
        "print(obj1)"
      ],
      "metadata": {
        "colab": {
          "base_uri": "https://localhost:8080/"
        },
        "id": "R53YQ9zILkOy",
        "outputId": "ce0f19f7-1572-42c8-8364-4feb871c8e8f"
      },
      "execution_count": 30,
      "outputs": [
        {
          "output_type": "stream",
          "name": "stdout",
          "text": [
            "CustomObject with value: 10\n"
          ]
        }
      ]
    },
    {
      "cell_type": "code",
      "source": [
        "obj3 = obj1 + obj2\n",
        "print(obj3)"
      ],
      "metadata": {
        "colab": {
          "base_uri": "https://localhost:8080/"
        },
        "id": "Q9Ng6V3eLm6E",
        "outputId": "bd2535d3-057d-4f5b-802f-34258ae46cbd"
      },
      "execution_count": 31,
      "outputs": [
        {
          "output_type": "stream",
          "name": "stdout",
          "text": [
            "CustomObject with value: 30\n"
          ]
        }
      ]
    },
    {
      "cell_type": "code",
      "source": [
        "obj4 = obj1 + 5\n",
        "print(obj4)"
      ],
      "metadata": {
        "colab": {
          "base_uri": "https://localhost:8080/"
        },
        "id": "x5OCUdtFLqZ8",
        "outputId": "4b6952e7-c127-487c-cece-1a3c961928cc"
      },
      "execution_count": 32,
      "outputs": [
        {
          "output_type": "stream",
          "name": "stdout",
          "text": [
            "CustomObject with value: 15\n"
          ]
        }
      ]
    },
    {
      "cell_type": "code",
      "source": [
        "#Create a decorator that measures and prints the execution time of a function.\n",
        "\n",
        "import time\n",
        "\n",
        "def measure_time(func):\n",
        "    def wrapper(*args, **kwargs):\n",
        "        start_time = time.time()\n",
        "        result = func(*args, **kwargs)\n",
        "        end_time = time.time()\n",
        "        execution_time = end_time - start_time\n",
        "        print(f\"Execution time of {func.__name__}: {execution_time:.6f} seconds\")\n",
        "        return result\n",
        "    return wrapper\n"
      ],
      "metadata": {
        "id": "GwSDUEaLLtiO"
      },
      "execution_count": 33,
      "outputs": []
    },
    {
      "cell_type": "code",
      "source": [
        "@measure_time\n",
        "def example_function(n):\n",
        "    total = 0\n",
        "    for i in range(n):\n",
        "        total += i\n",
        "    return total\n",
        "\n",
        "# Call the decorated function\n",
        "result = example_function(10_000_000)\n",
        "print(f\"Result: {result}\")\n"
      ],
      "metadata": {
        "colab": {
          "base_uri": "https://localhost:8080/"
        },
        "id": "X6ohxmo0L5GW",
        "outputId": "9358fa5d-b8a0-44c1-c7b7-faf1a4bf52ea"
      },
      "execution_count": 34,
      "outputs": [
        {
          "output_type": "stream",
          "name": "stdout",
          "text": [
            "Execution time of example_function: 0.644925 seconds\n",
            "Result: 49999995000000\n"
          ]
        }
      ]
    },
    {
      "cell_type": "code",
      "source": [
        "#Explain the concept of the Diamond Problem in multiple inheritance. How does Python resolve it?\n",
        "\n",
        "#The Diamond Problem occurs in languages that support multiple inheritance when a class inherits from two classes that have a common ancestor.\n",
        "#This creates ambiguity about which version of the common ancestor's attributes or methods should be inherited and used by the derived class.\n",
        "#Python resolves the Diamond Problem using the Method Resolution Order (MRO), which is determined by the C3 Linearization Algorithm.\n",
        "#MRO is the order in which Python looks for methods and attributes in a hierarchy of classes during method calls.\n",
        "\n",
        "#Example:-\n",
        "\n",
        "class A:\n",
        "    def show(self):\n",
        "        print(\"A\")\n",
        "\n",
        "class B(A):\n",
        "    def show(self):\n",
        "        print(\"B\")\n",
        "\n",
        "class C(A):\n",
        "    def show(self):\n",
        "        print(\"C\")\n",
        "\n",
        "class D(B, C):\n",
        "    pass\n",
        "\n",
        "d = D()\n",
        "d.show()"
      ],
      "metadata": {
        "colab": {
          "base_uri": "https://localhost:8080/"
        },
        "id": "ulj3iY5uL68z",
        "outputId": "345b8a56-5586-48f4-a1e3-9e3103cb5177"
      },
      "execution_count": 35,
      "outputs": [
        {
          "output_type": "stream",
          "name": "stdout",
          "text": [
            "B\n"
          ]
        }
      ]
    },
    {
      "cell_type": "code",
      "source": [
        "print(D.__mro__)\n"
      ],
      "metadata": {
        "colab": {
          "base_uri": "https://localhost:8080/"
        },
        "id": "MBM-8ZJ8Ml1F",
        "outputId": "1268c187-23bc-4cd4-bcbc-002994c25595"
      },
      "execution_count": 37,
      "outputs": [
        {
          "output_type": "stream",
          "name": "stdout",
          "text": [
            "(<class '__main__.D'>, <class '__main__.B'>, <class '__main__.C'>, <class '__main__.A'>, <class 'object'>)\n"
          ]
        }
      ]
    },
    {
      "cell_type": "code",
      "source": [
        "# Write a class method that keeps track of the number of instances created from a class.\n",
        "\n",
        "class InstanceTracker:\n",
        "    instance_count = 0\n",
        "\n",
        "    def __init__(self):\n",
        "        InstanceTracker.instance_count += 1\n",
        "\n",
        "    @classmethod\n",
        "    def get_instance_count(cls):\n",
        "        \"\"\"Returns the number of instances created.\"\"\"\n",
        "        return cls.instance_count\n"
      ],
      "metadata": {
        "id": "L8bbWCSZMrin"
      },
      "execution_count": 39,
      "outputs": []
    },
    {
      "cell_type": "code",
      "source": [
        "# Create instances\n",
        "obj1 = InstanceTracker()\n",
        "obj2 = InstanceTracker()\n",
        "obj3 = InstanceTracker()\n",
        "\n",
        "\n",
        "print(InstanceTracker.get_instance_count())\n",
        "\n"
      ],
      "metadata": {
        "colab": {
          "base_uri": "https://localhost:8080/"
        },
        "id": "OD6bodiIM2qP",
        "outputId": "792b9c53-f41f-40f8-cdff-fd8b684bd1cf"
      },
      "execution_count": 46,
      "outputs": [
        {
          "output_type": "stream",
          "name": "stdout",
          "text": [
            "15\n"
          ]
        }
      ]
    },
    {
      "cell_type": "code",
      "source": [
        "print(obj1.get_instance_count())"
      ],
      "metadata": {
        "colab": {
          "base_uri": "https://localhost:8080/"
        },
        "id": "SofjifJcM6_n",
        "outputId": "d5305043-2cfb-4df8-aa68-45122194e8ac"
      },
      "execution_count": 47,
      "outputs": [
        {
          "output_type": "stream",
          "name": "stdout",
          "text": [
            "15\n"
          ]
        }
      ]
    },
    {
      "cell_type": "code",
      "source": [
        "# Implement a static method in a class that checks if a given year is a leap year.\n",
        "\n",
        "class YearUtils:\n",
        "    @staticmethod\n",
        "    def is_leap_year(year):\n",
        "\n",
        "        if (year % 4 == 0 and year % 100 != 0) or (year % 400 == 0):\n",
        "            return True\n",
        "        return False\n"
      ],
      "metadata": {
        "id": "CmPtvMbIOdoP"
      },
      "execution_count": 50,
      "outputs": []
    },
    {
      "cell_type": "code",
      "source": [
        "# Using the static method\n",
        "print(YearUtils.is_leap_year(2024))"
      ],
      "metadata": {
        "colab": {
          "base_uri": "https://localhost:8080/"
        },
        "id": "XU0QaeZrO7Dd",
        "outputId": "146eca25-d8be-439c-adf7-e7291efbf7eb"
      },
      "execution_count": 52,
      "outputs": [
        {
          "output_type": "stream",
          "name": "stdout",
          "text": [
            "True\n"
          ]
        }
      ]
    },
    {
      "cell_type": "code",
      "source": [],
      "metadata": {
        "id": "z0z09JrjPLb7"
      },
      "execution_count": null,
      "outputs": []
    }
  ]
}